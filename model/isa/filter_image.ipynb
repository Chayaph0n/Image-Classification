{
 "cells": [
  {
   "cell_type": "code",
   "execution_count": null,
   "metadata": {},
   "outputs": [],
   "source": [
    "import os\n",
    "import shutil"
   ]
  },
  {
   "cell_type": "code",
   "execution_count": null,
   "metadata": {},
   "outputs": [],
   "source": [
    "# Path to the folder containing images\n",
    "source_folder = '../content/AllImage/11'\n",
    "\n",
    "# Path to the folder where you want to save images with 'S' in their names\n",
    "destination_folder = '../content/AllImage/saved/11'"
   ]
  },
  {
   "cell_type": "code",
   "execution_count": null,
   "metadata": {},
   "outputs": [],
   "source": [
    "# Ensure the destination folder exists, create it if it doesn't\n",
    "if not os.path.exists(destination_folder):\n",
    "    os.makedirs(destination_folder)\n",
    "\n",
    "# List all files in the source folder\n",
    "files = os.listdir(source_folder)"
   ]
  },
  {
   "cell_type": "code",
   "execution_count": null,
   "metadata": {},
   "outputs": [],
   "source": [
    "# Iterate through the files\n",
    "for file in files:\n",
    "    if file.split('_')[1] == 'S' and os.path.isfile(os.path.join(source_folder, file)):\n",
    "        # Copy the file to the destination folder if it contains 'S' in its name\n",
    "        shutil.copy(os.path.join(source_folder, file), destination_folder)\n",
    "        print(f\"File '{file}' copied to the destination folder.\")"
   ]
  }
 ],
 "metadata": {
  "kernelspec": {
   "display_name": "Python 3",
   "language": "python",
   "name": "python3"
  },
  "language_info": {
   "codemirror_mode": {
    "name": "ipython",
    "version": 3
   },
   "file_extension": ".py",
   "mimetype": "text/x-python",
   "name": "python",
   "nbconvert_exporter": "python",
   "pygments_lexer": "ipython3",
   "version": "3.11.6"
  }
 },
 "nbformat": 4,
 "nbformat_minor": 2
}

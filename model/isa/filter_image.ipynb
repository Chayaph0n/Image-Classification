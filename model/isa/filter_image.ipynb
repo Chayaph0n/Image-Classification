{
 "cells": [
  {
   "cell_type": "code",
   "execution_count": 1,
   "metadata": {},
   "outputs": [],
   "source": [
    "import os\n",
    "import shutil"
   ]
  },
  {
   "cell_type": "code",
   "execution_count": 37,
   "metadata": {},
   "outputs": [],
   "source": [
    "# Path to the folder containing images\n",
    "source_folder = '../content/AllImage/11'\n",
    "\n",
    "# Path to the folder where you want to save images with 'S' in their names\n",
    "destination_folder = '../content/AllImage/saved/11'"
   ]
  },
  {
   "cell_type": "code",
   "execution_count": 38,
   "metadata": {},
   "outputs": [],
   "source": [
    "# Ensure the destination folder exists, create it if it doesn't\n",
    "if not os.path.exists(destination_folder):\n",
    "    os.makedirs(destination_folder)\n",
    "\n",
    "# List all files in the source folder\n",
    "files = os.listdir(source_folder)"
   ]
  },
  {
   "cell_type": "code",
   "execution_count": 39,
   "metadata": {},
   "outputs": [
    {
     "name": "stdout",
     "output_type": "stream",
     "text": [
      "File 'AD4014F33B_S_0.124_Slave.jpg' copied to the destination folder.\n",
      "File 'AD75E3F51D_S_0.124_Slave.jpg' copied to the destination folder.\n",
      "File 'AD75E40105_S_0.169_Master.jpg' copied to the destination folder.\n",
      "File 'AD75E40108_S_0.107_Slave.jpg' copied to the destination folder.\n",
      "File 'AD75E40528_S_0.171_Master.jpg' copied to the destination folder.\n",
      "File 'AD8E41AB03_S_0.132_Master.jpg' copied to the destination folder.\n",
      "File 'AD8E424038_S_0.088_Slave.jpg' copied to the destination folder.\n",
      "File 'AD8E424039_S_0.128_Master.jpg' copied to the destination folder.\n",
      "File 'AD8E42CF03_S_0.108_Slave.jpg' copied to the destination folder.\n",
      "File 'AD8E438C38_S_0.099_Master.jpg' copied to the destination folder.\n",
      "File 'AD8E439038_S_0.111_Slave.jpg' copied to the destination folder.\n",
      "File 'AD8E439039_S_0.103_Master.jpg' copied to the destination folder.\n",
      "File 'AE1651E31C_S_0.163_Slave.jpg' copied to the destination folder.\n",
      "File 'AE49B45405_S_0.188Slave.jpg' copied to the destination folder.\n",
      "File 'AE7B30CA1B_S_0.198_Slave.jpg' copied to the destination folder.\n",
      "File 'AEFF147119_S_0.076_Master.jpg' copied to the destination folder.\n",
      "File 'AEFF14A536_S_0.143_Slave.jpg' copied to the destination folder.\n",
      "File 'B08B11F510_S_0.122.jpg' copied to the destination folder.\n",
      "File 'B08B11F51A_S_0.136.jpg' copied to the destination folder.\n",
      "File 'B096336302_S_0.189_Slave.jpg' copied to the destination folder.\n",
      "File 'B096336903_S_0.142_Master.jpg' copied to the destination folder.\n",
      "File 'B096336904_S_0.023_Slave.jpg' copied to the destination folder.\n",
      "File 'B096336905_S_0.166_Master.jpg' copied to the destination folder.\n",
      "File 'B09633690B_S_0.142_Slave.jpg' copied to the destination folder.\n",
      "File 'B09633691D_S_0.109_Master.jpg' copied to the destination folder.\n",
      "File 'B09633691E_S_0.088_Slave.jpg' copied to the destination folder.\n",
      "File 'B09633691F_S_0.192_Master.jpg' copied to the destination folder.\n",
      "File 'B096336938_S_0.097_Slave.jpg' copied to the destination folder.\n",
      "File 'B096336939_S_0.145_Master.jpg' copied to the destination folder.\n",
      "File 'B096336B03_S_0.146_Slave.jpg' copied to the destination folder.\n",
      "File 'B096336B04_S_0.147_Master.jpg' copied to the destination folder.\n",
      "File 'B096336B05_S_0.149_Slave.jpg' copied to the destination folder.\n",
      "File 'B09636763B_S_0.173_Master.jpg' copied to the destination folder.\n",
      "File 'B0B525E11F_S_0.186Master.jpg' copied to the destination folder.\n",
      "File 'B0B525E138_S_0.184Slave.jpg' copied to the destination folder.\n",
      "File 'B0F3E1E304_S_0.142_Slave.jpg' copied to the destination folder.\n"
     ]
    },
    {
     "ename": "IndexError",
     "evalue": "list index out of range",
     "output_type": "error",
     "traceback": [
      "\u001b[1;31m---------------------------------------------------------------------------\u001b[0m",
      "\u001b[1;31mIndexError\u001b[0m                                Traceback (most recent call last)",
      "\u001b[1;32mc:\\COSA_INVENTORY\\CNN_ISA_Folder\\CNN-ISA\\model\\isa\\filter_image.ipynb Cell 4\u001b[0m line \u001b[0;36m3\n\u001b[0;32m      <a href='vscode-notebook-cell:/c%3A/COSA_INVENTORY/CNN_ISA_Folder/CNN-ISA/model/isa/filter_image.ipynb#W3sZmlsZQ%3D%3D?line=0'>1</a>\u001b[0m \u001b[39m# Iterate through the files\u001b[39;00m\n\u001b[0;32m      <a href='vscode-notebook-cell:/c%3A/COSA_INVENTORY/CNN_ISA_Folder/CNN-ISA/model/isa/filter_image.ipynb#W3sZmlsZQ%3D%3D?line=1'>2</a>\u001b[0m \u001b[39mfor\u001b[39;00m file \u001b[39min\u001b[39;00m files:\n\u001b[1;32m----> <a href='vscode-notebook-cell:/c%3A/COSA_INVENTORY/CNN_ISA_Folder/CNN-ISA/model/isa/filter_image.ipynb#W3sZmlsZQ%3D%3D?line=2'>3</a>\u001b[0m     \u001b[39mif\u001b[39;00m file\u001b[39m.\u001b[39;49msplit(\u001b[39m'\u001b[39;49m\u001b[39m_\u001b[39;49m\u001b[39m'\u001b[39;49m)[\u001b[39m1\u001b[39;49m] \u001b[39m==\u001b[39m \u001b[39m'\u001b[39m\u001b[39mS\u001b[39m\u001b[39m'\u001b[39m \u001b[39mand\u001b[39;00m os\u001b[39m.\u001b[39mpath\u001b[39m.\u001b[39misfile(os\u001b[39m.\u001b[39mpath\u001b[39m.\u001b[39mjoin(source_folder, file)):\n\u001b[0;32m      <a href='vscode-notebook-cell:/c%3A/COSA_INVENTORY/CNN_ISA_Folder/CNN-ISA/model/isa/filter_image.ipynb#W3sZmlsZQ%3D%3D?line=3'>4</a>\u001b[0m         \u001b[39m# Copy the file to the destination folder if it contains 'S' in its name\u001b[39;00m\n\u001b[0;32m      <a href='vscode-notebook-cell:/c%3A/COSA_INVENTORY/CNN_ISA_Folder/CNN-ISA/model/isa/filter_image.ipynb#W3sZmlsZQ%3D%3D?line=4'>5</a>\u001b[0m         shutil\u001b[39m.\u001b[39mcopy(os\u001b[39m.\u001b[39mpath\u001b[39m.\u001b[39mjoin(source_folder, file), destination_folder)\n\u001b[0;32m      <a href='vscode-notebook-cell:/c%3A/COSA_INVENTORY/CNN_ISA_Folder/CNN-ISA/model/isa/filter_image.ipynb#W3sZmlsZQ%3D%3D?line=5'>6</a>\u001b[0m         \u001b[39mprint\u001b[39m(\u001b[39mf\u001b[39m\u001b[39m\"\u001b[39m\u001b[39mFile \u001b[39m\u001b[39m'\u001b[39m\u001b[39m{\u001b[39;00mfile\u001b[39m}\u001b[39;00m\u001b[39m'\u001b[39m\u001b[39m copied to the destination folder.\u001b[39m\u001b[39m\"\u001b[39m)\n",
      "\u001b[1;31mIndexError\u001b[0m: list index out of range"
     ]
    }
   ],
   "source": [
    "# Iterate through the files\n",
    "for file in files:\n",
    "    if file.split('_')[1] == 'S' and os.path.isfile(os.path.join(source_folder, file)):\n",
    "        # Copy the file to the destination folder if it contains 'S' in its name\n",
    "        shutil.copy(os.path.join(source_folder, file), destination_folder)\n",
    "        print(f\"File '{file}' copied to the destination folder.\")"
   ]
  }
 ],
 "metadata": {
  "kernelspec": {
   "display_name": "Python 3",
   "language": "python",
   "name": "python3"
  },
  "language_info": {
   "codemirror_mode": {
    "name": "ipython",
    "version": 3
   },
   "file_extension": ".py",
   "mimetype": "text/x-python",
   "name": "python",
   "nbconvert_exporter": "python",
   "pygments_lexer": "ipython3",
   "version": "3.11.6"
  }
 },
 "nbformat": 4,
 "nbformat_minor": 2
}

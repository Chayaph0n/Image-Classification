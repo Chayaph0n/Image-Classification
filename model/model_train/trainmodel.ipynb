{
 "cells": [
  {
   "cell_type": "code",
   "execution_count": null,
   "metadata": {},
   "outputs": [],
   "source": [
    "import numpy as np\n",
    "import cv2\n",
    "from os import listdir\n",
    "from os.path import isfile, join\n",
    "from tqdm import tqdm\n",
    "import tensorflow as tf\n",
    "from keras.models import Sequential\n",
    "from keras.layers import Dense, Dropout, Activation, Flatten , Conv2D, MaxPool2D\n",
    "import matplotlib.pyplot as plt"
   ]
  },
  {
   "cell_type": "code",
   "execution_count": null,
   "metadata": {},
   "outputs": [],
   "source": [
    "img2 = cv2.imread('../content/Image_test/2/AE7B30CA0F_0.258_2.jpg')\n",
    "img2 = cv2.cvtColor(img2 , cv2.COLOR_BGR2RGB)\n",
    "\n",
    "img3 = cv2.imread('../content/Image_test/3/AC3E812213_0.213_3.jpg')\n",
    "img3 = cv2.cvtColor(img3 , cv2.COLOR_BGR2RGB)\n",
    "\n",
    "img4 = cv2.imread('../content/Image_test/4/AE7B30C40E_0.194_4.jpg')\n",
    "img4 = cv2.cvtColor(img4 , cv2.COLOR_BGR2RGB)\n",
    "\n",
    "img5 = cv2.imread('../content/Image_test/5/ACA7B2A921_0.124_5.jpg')\n",
    "img5 = cv2.cvtColor(img5 , cv2.COLOR_BGR2RGB)\n",
    "\n",
    "plt.figure(figsize=(12,4))\n",
    "plt.subplot(141),plt.imshow(img2)\n",
    "plt.subplot(142),plt.imshow(img3)\n",
    "plt.subplot(143),plt.imshow(img4)\n",
    "plt.subplot(144),plt.imshow(img5)"
   ]
  },
  {
   "cell_type": "code",
   "execution_count": null,
   "metadata": {},
   "outputs": [],
   "source": [
    "width = 128\n",
    "num_classes = 4\n",
    "trainpath = '../content/Image_test/'\n",
    "testpath = '../content/Image_wo1&6/test/'\n",
    "trainImg = [trainpath+f for f in listdir(trainpath)]\n",
    "testImg = [testpath+f for f in listdir(testpath)]\n",
    "\n",
    "print(\"Train Images:\")\n",
    "print(trainImg)\n",
    "print(\"\\nTest Images:\")\n",
    "print(testImg)"
   ]
  },
  {
   "cell_type": "code",
   "execution_count": null,
   "metadata": {},
   "outputs": [],
   "source": [
    "def img2data(path):\n",
    "    rawImgs = []\n",
    "    labels = []\n",
    "\n",
    "    for imagePath in (path):\n",
    "        for item in tqdm(listdir(imagePath)):\n",
    "            file = join(imagePath, item)\n",
    "            if file[-1] =='g':\n",
    "                img = cv2.imread(file , cv2.COLOR_BGR2RGB)\n",
    "                img = cv2.resize(img ,(width,width))\n",
    "                rawImgs.append(img)\n",
    "\n",
    "                l = imagePath.split('/')[-1]\n",
    "                k = l.split('_')[-1]\n",
    "                type_img = k.split('.')[0]\n",
    "\n",
    "                if type_img == '2':\n",
    "                    labels.append([1, 0, 0, 0])\n",
    "                elif type_img == '3':\n",
    "                    labels.append([0, 1, 0, 0])\n",
    "                elif type_img == '4':\n",
    "                    labels.append([0, 0, 1, 0])\n",
    "                elif type_img == '5':\n",
    "                    labels.append([0, 0, 0, 1])\n",
    "\n",
    "    return rawImgs, labels, len(rawImgs)"
   ]
  },
  {
   "cell_type": "code",
   "execution_count": null,
   "metadata": {},
   "outputs": [],
   "source": [
    "print('Data use to train :')\n",
    "x_train, y_train, len_train = img2data(trainImg)\n",
    "\n",
    "print('Data use to test :')\n",
    "x_test, y_test, len_test = img2data(testImg)"
   ]
  },
  {
   "cell_type": "code",
   "execution_count": null,
   "metadata": {},
   "outputs": [],
   "source": [
    "print(\"Number of data points in the training dataset (len_train):\", len_train)\n",
    "print(\"Number of data points in the testing dataset (len_test):\", len_test)"
   ]
  },
  {
   "cell_type": "code",
   "execution_count": null,
   "metadata": {},
   "outputs": [],
   "source": [
    "x_train = np.array(x_train)\n",
    "y_train = np.array(y_train)\n",
    "x_test = np.array(x_test)\n",
    "y_test = np.array(y_test)\n",
    "x_train = x_train.astype('float32')\n",
    "x_test = x_test.astype('float32')\n",
    "x_train /= 255\n",
    "x_test /= 255"
   ]
  },
  {
   "cell_type": "code",
   "execution_count": null,
   "metadata": {},
   "outputs": [],
   "source": [
    "x_train.shape,y_train.shape,x_test.shape, y_test.shape"
   ]
  },
  {
   "cell_type": "code",
   "execution_count": null,
   "metadata": {},
   "outputs": [],
   "source": [
    "base_model = tf.keras.applications.MobileNetV2(input_shape=(128,128,3),\n",
    "                                                include_top=False,\n",
    "                                                weights='imagenet')\n",
    "base_model.trainable = False\n",
    "num_classes = 4\n",
    "\n",
    "model = Sequential([\n",
    "        base_model,\n",
    "\n",
    "        Conv2D(128, 3, activation='relu'),\n",
    "        Dense(16),\n",
    "        Flatten(),\n",
    "        Dense(num_classes, activation='softmax')\n",
    "    ])"
   ]
  },
  {
   "cell_type": "code",
   "execution_count": null,
   "metadata": {},
   "outputs": [],
   "source": [
    "model.summary()"
   ]
  },
  {
   "cell_type": "code",
   "execution_count": null,
   "metadata": {},
   "outputs": [],
   "source": [
    "model.compile(optimizer=tf.keras.optimizers.Adam(learning_rate=0.001),\n",
    "                loss='categorical_crossentropy',\n",
    "                metrics= ['accuracy'])\n",
    "batch_size = 32\n",
    "# 24 28 30 31 29\n",
    "epochs = 10"
   ]
  },
  {
   "cell_type": "code",
   "execution_count": null,
   "metadata": {},
   "outputs": [],
   "source": [
    "history = model.fit(x_train, y_train ,batch_size=batch_size, epochs=epochs ,validation_data=(x_test, y_test))"
   ]
  },
  {
   "cell_type": "code",
   "execution_count": null,
   "metadata": {},
   "outputs": [],
   "source": [
    "import matplotlib.pyplot as plt\n",
    "plt.plot(history.history['accuracy'])\n",
    "plt.plot(history.history['val_accuracy'])\n",
    "plt.title('model accuracy')\n",
    "plt.ylabel('accuracy')\n",
    "plt.xlabel('epoch')\n",
    "plt.legend(['train', 'validation'], loc='upper left')\n",
    "plt.show()\n",
    "# \"Loss\"\n",
    "plt.plot(history.history['loss'])\n",
    "plt.plot(history.history['val_loss'])\n",
    "plt.title('model loss')\n",
    "plt.ylabel('loss')\n",
    "plt.xlabel('epoch')\n",
    "plt.legend(['train', 'validation'], loc='upper left')\n",
    "plt.show()"
   ]
  },
  {
   "cell_type": "code",
   "execution_count": null,
   "metadata": {},
   "outputs": [],
   "source": [
    "def preprocessing(file):\n",
    "    img = cv2.imread(file, cv2.COLOR_BGR2RGB)\n",
    "    ori = cv2.cvtColor(img, cv2.COLOR_BGR2RGB)\n",
    "    img = cv2.resize(img, (width, width))\n",
    "    rimg = np.array(img)\n",
    "    rimg = rimg.astype('float32')\n",
    "    rimg /= 255\n",
    "    rimg = np.reshape(rimg, (1, 128, 128, 3))\n",
    "    #fft add preprocessing\n",
    "    return rimg, ori"
   ]
  },
  {
   "cell_type": "code",
   "execution_count": null,
   "metadata": {},
   "outputs": [],
   "source": [
    "def calculate_accuracy(type_accuracy, correct_predictions, total_predictions, label, item, model, file):\n",
    "    real_label = item.split('_')[-1].split('.')[0]\n",
    "    pre_img, ori = preprocessing(file)\n",
    "    predict = model.predict(pre_img)\n",
    "    result = label[np.argmax(predict)]\n",
    "\n",
    "    if real_label == result:\n",
    "        correct_predictions += 1\n",
    "\n",
    "        if real_label in type_accuracy:\n",
    "            type_accuracy[real_label][0] += 1  # Correct predictions\n",
    "        else:\n",
    "            type_accuracy[real_label] = [1, 0]  # [Correct predictions, Total predictions]\n",
    "\n",
    "    if real_label in type_accuracy:\n",
    "        type_accuracy[real_label][1] += 1  # Total predictions\n",
    "    else:\n",
    "        type_accuracy[real_label] = [0, 1]  # [Correct predictions, Total predictions]\n",
    "\n",
    "    total_predictions += 1\n",
    "    return type_accuracy, correct_predictions, total_predictions"
   ]
  },
  {
   "cell_type": "code",
   "execution_count": null,
   "metadata": {},
   "outputs": [],
   "source": [
    "testpath = '../content/Image_wo1&6/test/'\n",
    "testImg = [testpath + f for f in listdir(testpath) if listdir(join(testpath, f))]\n",
    "\n",
    "type_accuracy = {}  # Dictionary to store accuracy for each type\n",
    "correct_predictions = 0\n",
    "total_predictions = 0\n",
    "label = ['2', '3', '4', '5']\n",
    "\n",
    "for imagePath in testImg:\n",
    "    for item in listdir(imagePath):\n",
    "        file = join(imagePath, item)\n",
    "        if item.split('.')[0] != \"\":\n",
    "            \n",
    "            pre_img, ori = preprocessing(file)\n",
    "            predict = model.predict(pre_img)\n",
    "            \n",
    "            result = label[np.argmax(predict)] # choose highest value in array of predict\n",
    "            value = item.split('_')[1]\n",
    "            print(predict)\n",
    "            print('value    :  ' + str(value))\n",
    "            print('real     :  ' + str(item.split('_')[-1].split('.')[0]))\n",
    "            print('predict  :  ' + str(result))\n",
    "\n",
    "            # Check accuracy\n",
    "            real_label = item.split('_')[-1].split('.')[0]\n",
    "            if real_label == result:\n",
    "                correct_predictions += 1\n",
    "                if real_label in type_accuracy:\n",
    "                    type_accuracy[real_label][0] += 1  # Correct predictions\n",
    "                else:\n",
    "                    type_accuracy[real_label] = [1, 0]  # [Correct predictions, Total predictions]\n",
    "            if real_label in type_accuracy:\n",
    "                type_accuracy[real_label][1] += 1  # Total predictions\n",
    "            else:\n",
    "                type_accuracy[real_label] = [0, 1]  # [Correct predictions, Total predictions]\n",
    "            total_predictions += 1\n",
    "\n",
    "            plt.imshow(ori)\n",
    "            plt.show()\n",
    "            "
   ]
  },
  {
   "cell_type": "code",
   "execution_count": null,
   "metadata": {},
   "outputs": [],
   "source": [
    "# Calculate and print the overall accuracy with 2 decimal places\n",
    "overall_accuracy = correct_predictions / total_predictions\n",
    "print(\"Overall Accuracy: {:.3f}\".format(overall_accuracy))\n",
    "\n",
    "# Calculate and print accuracy for each type with 2 decimal places\n",
    "for type_label, (correct, total) in type_accuracy.items():\n",
    "    type_acc = correct / total\n",
    "    print(\"Accuracy for Type {}: {:.3f}\".format(type_label, type_acc))\n"
   ]
  },
  {
   "cell_type": "code",
   "execution_count": null,
   "metadata": {},
   "outputs": [],
   "source": [
    "model.save('../trained/model.h5')"
   ]
  },
  {
   "cell_type": "code",
   "execution_count": null,
   "metadata": {},
   "outputs": [],
   "source": [
    "testpath = '../content/Image_wo1&6/test/'\n",
    "testImg = [testpath + f for f in listdir(testpath) if listdir(join(testpath, f))]\n",
    "\n",
    "type_accuracy = {}  # Dictionary to store accuracy for each type\n",
    "correct_predictions = 0\n",
    "total_predictions = 0\n",
    "\n",
    "for imagePath in testImg:\n",
    "    for item in listdir(imagePath):\n",
    "        file = join(imagePath, item)\n",
    "        if item.split('.')[0] != \"\":\n",
    "            img = cv2.imread(file, cv2.COLOR_BGR2RGB)\n",
    "            ori = cv2.cvtColor(img, cv2.COLOR_BGR2RGB)\n",
    "            img = cv2.resize(img, (width, width))\n",
    "            rimg = np.array(img)\n",
    "            rimg = rimg.astype('float32')\n",
    "            rimg /= 255\n",
    "            rimg = np.reshape(rimg, (1, 128, 128, 3))\n",
    "            predict = model.predict(rimg)\n",
    "            label = ['2', '3', '4', '5']\n",
    "            result = label[np.argmax(predict)] # choose highest value in array of predict\n",
    "            value = item.split('_')[1]\n",
    "            print(predict)\n",
    "            print('value    :  ' + str(value))\n",
    "            print('real     :  ' + str(item.split('_')[-1].split('.')[0]))\n",
    "            \n",
    "            sub_label = ['2','3','4','5','6','7','8','9']\n",
    "            \n",
    "            if result == '2' :\n",
    "                if value > '0.2' :\n",
    "                    print('predict  :  ' + str(2))\n",
    "                else :\n",
    "                    print('predict  :  ' + str(3))\n",
    "            elif result == '3' :\n",
    "                if value > '0.2' :\n",
    "                    print('predict  :  ' + str(4))\n",
    "                else :\n",
    "                    print('predict  :  ' + str(5))\n",
    "            elif result == '4' :\n",
    "                if value > '0.2' :\n",
    "                    print('predict  :  ' + str(6))\n",
    "                else :\n",
    "                    print('predict  :  ' + str(7))\n",
    "            elif result == '5' :\n",
    "                if value > '0.2' :\n",
    "                    print('predict  :  ' + str(8))\n",
    "                else :\n",
    "                    print('predict  :  ' + str(9))\n",
    "\n",
    "            # Check accuracy\n",
    "            real_label = item.split('_')[-1].split('.')[0]\n",
    "            if real_label == result:\n",
    "                correct_predictions += 1\n",
    "                if real_label in type_accuracy:\n",
    "                    type_accuracy[real_label][0] += 1  # Correct predictions\n",
    "                else:\n",
    "                    type_accuracy[real_label] = [1, 0]  # [Correct predictions, Total predictions]\n",
    "            if real_label in type_accuracy:\n",
    "                type_accuracy[real_label][1] += 1  # Total predictions\n",
    "            else:\n",
    "                type_accuracy[real_label] = [0, 1]  # [Correct predictions, Total predictions]\n",
    "            total_predictions += 1\n",
    "\n",
    "            plt.imshow(ori)\n",
    "            plt.show()\n"
   ]
  }
 ],
 "metadata": {
  "kernelspec": {
   "display_name": "Python 3",
   "language": "python",
   "name": "python3"
  },
  "language_info": {
   "codemirror_mode": {
    "name": "ipython",
    "version": 3
   },
   "file_extension": ".py",
   "mimetype": "text/x-python",
   "name": "python",
   "nbconvert_exporter": "python",
   "pygments_lexer": "ipython3",
   "version": "3.11.6"
  }
 },
 "nbformat": 4,
 "nbformat_minor": 2
}
